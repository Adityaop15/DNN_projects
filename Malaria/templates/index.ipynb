{
 "cells": [
  {
   "cell_type": "code",
   "execution_count": null,
   "id": "c1fb958b",
   "metadata": {},
   "outputs": [],
   "source": [
    "{% extends \"base.html\" %} {% block content %}\n",
    "\n",
    "<h2>Image Classifier</h2>\n",
    "\n",
    "<div>\n",
    "    <form id=\"upload-file\" method=\"post\" enctype=\"multipart/form-data\">\n",
    "        <label for=\"imageUpload\" class=\"upload-label\">\n",
    "            Choose...\n",
    "        </label>\n",
    "        <input type=\"file\" name=\"file\" id=\"imageUpload\" accept=\".png, .jpg, .jpeg\">\n",
    "    </form>\n",
    "\n",
    "    <div class=\"image-section\" style=\"display:none;\">\n",
    "        <div class=\"img-preview\">\n",
    "            <div id=\"imagePreview\">\n",
    "            </div>\n",
    "        </div>\n",
    "        <div>\n",
    "            <button type=\"button\" class=\"btn btn-primary btn-lg \" id=\"btn-predict\">Predict!</button>\n",
    "        </div>\n",
    "    </div>\n",
    "\n",
    "    <div class=\"loader\" style=\"display:none;\"></div>\n",
    "\n",
    "    <h3 id=\"result\">\n",
    "        <span> </span>\n",
    "    </h3>\n",
    "\n",
    "</div>\n",
    "\n",
    "{% endblock %}"
   ]
  }
 ],
 "metadata": {
  "kernelspec": {
   "display_name": "Python 3 (ipykernel)",
   "language": "python",
   "name": "python3"
  },
  "language_info": {
   "codemirror_mode": {
    "name": "ipython",
    "version": 3
   },
   "file_extension": ".py",
   "mimetype": "text/x-python",
   "name": "python",
   "nbconvert_exporter": "python",
   "pygments_lexer": "ipython3",
   "version": "3.9.7"
  }
 },
 "nbformat": 4,
 "nbformat_minor": 5
}

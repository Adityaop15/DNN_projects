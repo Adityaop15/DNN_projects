{
 "cells": [
  {
   "cell_type": "code",
   "execution_count": 1,
   "id": "bf9f4244",
   "metadata": {},
   "outputs": [],
   "source": [
    "# import the libraries as shown below\n",
    "\n",
    "from tensorflow.keras.layers import Input, Lambda, Dense, Flatten,Conv2D\n",
    "from tensorflow.keras.models import Model\n",
    "from tensorflow.keras.applications.vgg19 import VGG19\n",
    "from tensorflow.keras.applications.resnet50 import preprocess_input\n",
    "from tensorflow.keras.preprocessing import image\n",
    "from tensorflow.keras.preprocessing.image import ImageDataGenerator,load_img\n",
    "from tensorflow.keras.models import Sequential\n",
    "import numpy as np\n",
    "from glob import glob\n",
    "import matplotlib.pyplot as plt"
   ]
  },
  {
   "cell_type": "code",
   "execution_count": 3,
   "id": "d72a0a5b",
   "metadata": {},
   "outputs": [],
   "source": [
    "# re-size all the images to this\n",
    "IMAGE_SIZE = [224, 224]\n",
    "\n",
    "train_path = 'Dataset/Train'\n",
    "valid_path = 'Dataset/Test'"
   ]
  },
  {
   "cell_type": "code",
   "execution_count": 4,
   "id": "19e5fdb1",
   "metadata": {},
   "outputs": [],
   "source": [
    "# Import the Vgg 16 library as shown below and add preprocessing layer to the front of VGG\n",
    "# Here we will be using imagenet weights\n",
    "\n",
    "mobilnet = VGG19(input_shape=IMAGE_SIZE + [3], weights='imagenet', include_top=False)"
   ]
  },
  {
   "cell_type": "code",
   "execution_count": 5,
   "id": "a79937fc",
   "metadata": {},
   "outputs": [],
   "source": [
    "# don't train existing weights\n",
    "for layer in mobilnet.layers:\n",
    "    layer.trainable = False"
   ]
  },
  {
   "cell_type": "code",
   "execution_count": 6,
   "id": "ed7254d2",
   "metadata": {},
   "outputs": [],
   "source": [
    "# useful for getting number of output classes\n",
    "folders = glob('Dataset/Train/*')"
   ]
  },
  {
   "cell_type": "code",
   "execution_count": 7,
   "id": "e9fd49a8",
   "metadata": {},
   "outputs": [
    {
     "data": {
      "text/plain": [
       "['Dataset/Train\\\\Parasite', 'Dataset/Train\\\\Uninfected']"
      ]
     },
     "execution_count": 7,
     "metadata": {},
     "output_type": "execute_result"
    }
   ],
   "source": [
    "folders\n"
   ]
  },
  {
   "cell_type": "code",
   "execution_count": 8,
   "id": "503441cd",
   "metadata": {},
   "outputs": [],
   "source": [
    "# our layers - you can add more if you want\n",
    "x = Flatten()(mobilnet.output)"
   ]
  },
  {
   "cell_type": "code",
   "execution_count": 9,
   "id": "7a84e9fb",
   "metadata": {},
   "outputs": [],
   "source": [
    "prediction = Dense(len(folders), activation='softmax')(x)\n",
    "\n",
    "# create a model object\n",
    "model = Model(inputs=mobilnet.input, outputs=prediction)"
   ]
  },
  {
   "cell_type": "code",
   "execution_count": 10,
   "id": "6acb0b36",
   "metadata": {},
   "outputs": [
    {
     "name": "stdout",
     "output_type": "stream",
     "text": [
      "Model: \"model\"\n",
      "_________________________________________________________________\n",
      " Layer (type)                Output Shape              Param #   \n",
      "=================================================================\n",
      " input_1 (InputLayer)        [(None, 224, 224, 3)]     0         \n",
      "                                                                 \n",
      " block1_conv1 (Conv2D)       (None, 224, 224, 64)      1792      \n",
      "                                                                 \n",
      " block1_conv2 (Conv2D)       (None, 224, 224, 64)      36928     \n",
      "                                                                 \n",
      " block1_pool (MaxPooling2D)  (None, 112, 112, 64)      0         \n",
      "                                                                 \n",
      " block2_conv1 (Conv2D)       (None, 112, 112, 128)     73856     \n",
      "                                                                 \n",
      " block2_conv2 (Conv2D)       (None, 112, 112, 128)     147584    \n",
      "                                                                 \n",
      " block2_pool (MaxPooling2D)  (None, 56, 56, 128)       0         \n",
      "                                                                 \n",
      " block3_conv1 (Conv2D)       (None, 56, 56, 256)       295168    \n",
      "                                                                 \n",
      " block3_conv2 (Conv2D)       (None, 56, 56, 256)       590080    \n",
      "                                                                 \n",
      " block3_conv3 (Conv2D)       (None, 56, 56, 256)       590080    \n",
      "                                                                 \n",
      " block3_conv4 (Conv2D)       (None, 56, 56, 256)       590080    \n",
      "                                                                 \n",
      " block3_pool (MaxPooling2D)  (None, 28, 28, 256)       0         \n",
      "                                                                 \n",
      " block4_conv1 (Conv2D)       (None, 28, 28, 512)       1180160   \n",
      "                                                                 \n",
      " block4_conv2 (Conv2D)       (None, 28, 28, 512)       2359808   \n",
      "                                                                 \n",
      " block4_conv3 (Conv2D)       (None, 28, 28, 512)       2359808   \n",
      "                                                                 \n",
      " block4_conv4 (Conv2D)       (None, 28, 28, 512)       2359808   \n",
      "                                                                 \n",
      " block4_pool (MaxPooling2D)  (None, 14, 14, 512)       0         \n",
      "                                                                 \n",
      " block5_conv1 (Conv2D)       (None, 14, 14, 512)       2359808   \n",
      "                                                                 \n",
      " block5_conv2 (Conv2D)       (None, 14, 14, 512)       2359808   \n",
      "                                                                 \n",
      " block5_conv3 (Conv2D)       (None, 14, 14, 512)       2359808   \n",
      "                                                                 \n",
      " block5_conv4 (Conv2D)       (None, 14, 14, 512)       2359808   \n",
      "                                                                 \n",
      " block5_pool (MaxPooling2D)  (None, 7, 7, 512)         0         \n",
      "                                                                 \n",
      " flatten (Flatten)           (None, 25088)             0         \n",
      "                                                                 \n",
      " dense (Dense)               (None, 2)                 50178     \n",
      "                                                                 \n",
      "=================================================================\n",
      "Total params: 20,074,562\n",
      "Trainable params: 50,178\n",
      "Non-trainable params: 20,024,384\n",
      "_________________________________________________________________\n"
     ]
    }
   ],
   "source": [
    "# view the structure of the model\n",
    "model.summary()"
   ]
  },
  {
   "cell_type": "code",
   "execution_count": 11,
   "id": "24e207f2",
   "metadata": {},
   "outputs": [],
   "source": [
    "from tensorflow.keras.layers import MaxPooling2D"
   ]
  },
  {
   "cell_type": "code",
   "execution_count": 12,
   "id": "8f643a18",
   "metadata": {},
   "outputs": [
    {
     "name": "stdout",
     "output_type": "stream",
     "text": [
      "Model: \"sequential\"\n",
      "_________________________________________________________________\n",
      " Layer (type)                Output Shape              Param #   \n",
      "=================================================================\n",
      " conv2d (Conv2D)             (None, 224, 224, 16)      208       \n",
      "                                                                 \n",
      " max_pooling2d (MaxPooling2D  (None, 112, 112, 16)     0         \n",
      " )                                                               \n",
      "                                                                 \n",
      " conv2d_1 (Conv2D)           (None, 112, 112, 32)      2080      \n",
      "                                                                 \n",
      " max_pooling2d_1 (MaxPooling  (None, 56, 56, 32)       0         \n",
      " 2D)                                                             \n",
      "                                                                 \n",
      " conv2d_2 (Conv2D)           (None, 56, 56, 64)        8256      \n",
      "                                                                 \n",
      " max_pooling2d_2 (MaxPooling  (None, 28, 28, 64)       0         \n",
      " 2D)                                                             \n",
      "                                                                 \n",
      " flatten_1 (Flatten)         (None, 50176)             0         \n",
      "                                                                 \n",
      " dense_1 (Dense)             (None, 500)               25088500  \n",
      "                                                                 \n",
      " dense_2 (Dense)             (None, 2)                 1002      \n",
      "                                                                 \n",
      "=================================================================\n",
      "Total params: 25,100,046\n",
      "Trainable params: 25,100,046\n",
      "Non-trainable params: 0\n",
      "_________________________________________________________________\n"
     ]
    }
   ],
   "source": [
    "### Create Model from scratch using CNN\n",
    "model=Sequential()\n",
    "model.add(Conv2D(filters=16,kernel_size=2,padding=\"same\",activation=\"relu\",input_shape=(224,224,3)))\n",
    "model.add(MaxPooling2D(pool_size=2))\n",
    "model.add(Conv2D(filters=32,kernel_size=2,padding=\"same\",activation =\"relu\"))\n",
    "model.add(MaxPooling2D(pool_size=2))\n",
    "model.add(Conv2D(filters=64,kernel_size=2,padding=\"same\",activation=\"relu\"))\n",
    "model.add(MaxPooling2D(pool_size=2))\n",
    "model.add(Flatten())\n",
    "model.add(Dense(500,activation=\"relu\"))\n",
    "model.add(Dense(2,activation=\"softmax\"))\n",
    "model.summary()"
   ]
  },
  {
   "cell_type": "code",
   "execution_count": 13,
   "id": "03450b49",
   "metadata": {},
   "outputs": [],
   "source": [
    "# tell the model what cost and optimization method to use\n",
    "model.compile(\n",
    "  loss='categorical_crossentropy',\n",
    "  optimizer='adam',\n",
    "  metrics=['accuracy']\n",
    ")"
   ]
  },
  {
   "cell_type": "code",
   "execution_count": 14,
   "id": "836afe57",
   "metadata": {},
   "outputs": [],
   "source": [
    "# Use the Image Data Generator to import the images from the dataset\n",
    "from tensorflow.keras.preprocessing.image import ImageDataGenerator\n",
    "\n",
    "train_datagen = ImageDataGenerator(rescale = 1./255,\n",
    "                                   shear_range = 0.2,\n",
    "                                   zoom_range = 0.2,\n",
    "                                   horizontal_flip = True)\n",
    "\n",
    "test_datagen = ImageDataGenerator(rescale = 1./255)"
   ]
  },
  {
   "cell_type": "code",
   "execution_count": 15,
   "id": "7737e423",
   "metadata": {},
   "outputs": [
    {
     "name": "stdout",
     "output_type": "stream",
     "text": [
      "Found 416 images belonging to 2 classes.\n"
     ]
    }
   ],
   "source": [
    "# Make sure you provide the same target size as initialied for the image size\n",
    "training_set = train_datagen.flow_from_directory('Dataset/Train',\n",
    "                                                 target_size = (224, 224),\n",
    "                                                 batch_size = 32,\n",
    "                                                 class_mode = 'categorical')"
   ]
  },
  {
   "cell_type": "code",
   "execution_count": 16,
   "id": "f5b2e71d",
   "metadata": {},
   "outputs": [
    {
     "data": {
      "text/plain": [
       "<keras.preprocessing.image.DirectoryIterator at 0x1a139db6400>"
      ]
     },
     "execution_count": 16,
     "metadata": {},
     "output_type": "execute_result"
    }
   ],
   "source": [
    "training_set"
   ]
  },
  {
   "cell_type": "code",
   "execution_count": 17,
   "id": "5aab1d16",
   "metadata": {},
   "outputs": [
    {
     "name": "stdout",
     "output_type": "stream",
     "text": [
      "Found 134 images belonging to 2 classes.\n"
     ]
    }
   ],
   "source": [
    "test_set = test_datagen.flow_from_directory('Dataset/Test',\n",
    "                                            target_size = (224, 224),\n",
    "                                            batch_size = 32,\n",
    "                                            class_mode = 'categorical')"
   ]
  },
  {
   "cell_type": "code",
   "execution_count": 19,
   "id": "ec83a2b8",
   "metadata": {},
   "outputs": [
    {
     "name": "stderr",
     "output_type": "stream",
     "text": [
      "C:\\Users\\DELL\\AppData\\Local\\Temp/ipykernel_1444/4102162479.py:3: UserWarning: `Model.fit_generator` is deprecated and will be removed in a future version. Please use `Model.fit`, which supports generators.\n",
      "  r = model.fit_generator(\n"
     ]
    },
    {
     "name": "stdout",
     "output_type": "stream",
     "text": [
      "Epoch 1/50\n",
      "13/13 [==============================] - 25s 2s/step - loss: 2.1640 - accuracy: 0.4952 - val_loss: 0.6482 - val_accuracy: 0.6791\n",
      "Epoch 2/50\n",
      "13/13 [==============================] - 19s 1s/step - loss: 0.6487 - accuracy: 0.5769 - val_loss: 0.6860 - val_accuracy: 0.6343\n",
      "Epoch 3/50\n",
      "13/13 [==============================] - 19s 1s/step - loss: 0.5882 - accuracy: 0.6394 - val_loss: 0.7904 - val_accuracy: 0.3806\n",
      "Epoch 4/50\n",
      "13/13 [==============================] - 21s 2s/step - loss: 0.5567 - accuracy: 0.6803 - val_loss: 0.8446 - val_accuracy: 0.3806\n",
      "Epoch 5/50\n",
      "13/13 [==============================] - 19s 1s/step - loss: 0.4936 - accuracy: 0.7332 - val_loss: 0.7547 - val_accuracy: 0.4552\n",
      "Epoch 6/50\n",
      "13/13 [==============================] - 17s 1s/step - loss: 0.4511 - accuracy: 0.7740 - val_loss: 0.8512 - val_accuracy: 0.4328\n",
      "Epoch 7/50\n",
      "13/13 [==============================] - 17s 1s/step - loss: 0.4181 - accuracy: 0.8101 - val_loss: 0.6570 - val_accuracy: 0.5746\n",
      "Epoch 8/50\n",
      "13/13 [==============================] - 17s 1s/step - loss: 0.4008 - accuracy: 0.8389 - val_loss: 0.6262 - val_accuracy: 0.5896\n",
      "Epoch 9/50\n",
      "13/13 [==============================] - 18s 1s/step - loss: 0.3557 - accuracy: 0.8438 - val_loss: 0.8698 - val_accuracy: 0.5299\n",
      "Epoch 10/50\n",
      "13/13 [==============================] - 17s 1s/step - loss: 0.3479 - accuracy: 0.8678 - val_loss: 0.7392 - val_accuracy: 0.6269\n",
      "Epoch 11/50\n",
      "13/13 [==============================] - 19s 1s/step - loss: 0.3044 - accuracy: 0.8798 - val_loss: 0.4766 - val_accuracy: 0.7612\n",
      "Epoch 12/50\n",
      "13/13 [==============================] - 19s 1s/step - loss: 0.2655 - accuracy: 0.8918 - val_loss: 0.6676 - val_accuracy: 0.6493\n",
      "Epoch 13/50\n",
      "13/13 [==============================] - 18s 1s/step - loss: 0.2492 - accuracy: 0.8990 - val_loss: 1.0017 - val_accuracy: 0.6642\n",
      "Epoch 14/50\n",
      "13/13 [==============================] - 19s 1s/step - loss: 0.2945 - accuracy: 0.9062 - val_loss: 0.3589 - val_accuracy: 0.8507\n",
      "Epoch 15/50\n",
      "13/13 [==============================] - 19s 1s/step - loss: 0.1826 - accuracy: 0.9519 - val_loss: 0.7231 - val_accuracy: 0.7164\n",
      "Epoch 16/50\n",
      "13/13 [==============================] - 23s 2s/step - loss: 0.1718 - accuracy: 0.9351 - val_loss: 0.4966 - val_accuracy: 0.7761\n",
      "Epoch 17/50\n",
      "13/13 [==============================] - 19s 1s/step - loss: 0.1938 - accuracy: 0.9327 - val_loss: 0.7520 - val_accuracy: 0.7090\n",
      "Epoch 18/50\n",
      "13/13 [==============================] - 19s 1s/step - loss: 0.1614 - accuracy: 0.9519 - val_loss: 0.3169 - val_accuracy: 0.8433\n",
      "Epoch 19/50\n",
      "13/13 [==============================] - 22s 2s/step - loss: 0.1233 - accuracy: 0.9543 - val_loss: 0.2695 - val_accuracy: 0.8657\n",
      "Epoch 20/50\n",
      "13/13 [==============================] - 22s 2s/step - loss: 0.1176 - accuracy: 0.9591 - val_loss: 0.2712 - val_accuracy: 0.8806\n",
      "Epoch 21/50\n",
      "13/13 [==============================] - 20s 2s/step - loss: 0.0836 - accuracy: 0.9832 - val_loss: 0.5037 - val_accuracy: 0.8209\n",
      "Epoch 22/50\n",
      "13/13 [==============================] - 20s 1s/step - loss: 0.1009 - accuracy: 0.9639 - val_loss: 0.2853 - val_accuracy: 0.8731\n",
      "Epoch 23/50\n",
      "13/13 [==============================] - 19s 1s/step - loss: 0.0882 - accuracy: 0.9832 - val_loss: 0.2599 - val_accuracy: 0.8955\n",
      "Epoch 24/50\n",
      "13/13 [==============================] - 21s 2s/step - loss: 0.0830 - accuracy: 0.9784 - val_loss: 0.3722 - val_accuracy: 0.8657\n",
      "Epoch 25/50\n",
      "13/13 [==============================] - 19s 1s/step - loss: 0.0636 - accuracy: 0.9856 - val_loss: 0.3705 - val_accuracy: 0.8582\n",
      "Epoch 26/50\n",
      "13/13 [==============================] - 19s 1s/step - loss: 0.1024 - accuracy: 0.9663 - val_loss: 0.2572 - val_accuracy: 0.8955\n",
      "Epoch 27/50\n",
      "13/13 [==============================] - 19s 1s/step - loss: 0.0520 - accuracy: 0.9832 - val_loss: 0.3487 - val_accuracy: 0.8657\n",
      "Epoch 28/50\n",
      "13/13 [==============================] - 19s 1s/step - loss: 0.0601 - accuracy: 0.9760 - val_loss: 0.2235 - val_accuracy: 0.9030\n",
      "Epoch 29/50\n",
      "13/13 [==============================] - 18s 1s/step - loss: 0.0735 - accuracy: 0.9736 - val_loss: 0.3599 - val_accuracy: 0.8657\n",
      "Epoch 30/50\n",
      "13/13 [==============================] - 21s 2s/step - loss: 0.0821 - accuracy: 0.9784 - val_loss: 0.2915 - val_accuracy: 0.8955\n",
      "Epoch 31/50\n",
      "13/13 [==============================] - 18s 1s/step - loss: 0.0447 - accuracy: 0.9880 - val_loss: 0.2806 - val_accuracy: 0.8881\n",
      "Epoch 32/50\n",
      "13/13 [==============================] - 19s 1s/step - loss: 0.0909 - accuracy: 0.9760 - val_loss: 0.2047 - val_accuracy: 0.9104\n",
      "Epoch 33/50\n",
      "13/13 [==============================] - 18s 1s/step - loss: 0.0654 - accuracy: 0.9856 - val_loss: 0.3346 - val_accuracy: 0.8881\n",
      "Epoch 34/50\n",
      "13/13 [==============================] - 19s 1s/step - loss: 0.0443 - accuracy: 0.9808 - val_loss: 0.2310 - val_accuracy: 0.8955\n",
      "Epoch 35/50\n",
      "13/13 [==============================] - 18s 1s/step - loss: 0.0458 - accuracy: 0.9904 - val_loss: 0.2523 - val_accuracy: 0.9030\n",
      "Epoch 36/50\n",
      "13/13 [==============================] - 20s 2s/step - loss: 0.0323 - accuracy: 0.9904 - val_loss: 0.4769 - val_accuracy: 0.8657\n",
      "Epoch 37/50\n",
      "13/13 [==============================] - 20s 1s/step - loss: 0.0978 - accuracy: 0.9784 - val_loss: 0.2523 - val_accuracy: 0.8955\n",
      "Epoch 38/50\n",
      "13/13 [==============================] - 19s 1s/step - loss: 0.0378 - accuracy: 0.9928 - val_loss: 0.2727 - val_accuracy: 0.8955\n",
      "Epoch 39/50\n",
      "13/13 [==============================] - 20s 1s/step - loss: 0.0526 - accuracy: 0.9832 - val_loss: 0.2524 - val_accuracy: 0.9104\n",
      "Epoch 40/50\n",
      "13/13 [==============================] - 20s 2s/step - loss: 0.0716 - accuracy: 0.9856 - val_loss: 0.4330 - val_accuracy: 0.8582\n",
      "Epoch 41/50\n",
      "13/13 [==============================] - 20s 2s/step - loss: 0.0589 - accuracy: 0.9856 - val_loss: 0.2232 - val_accuracy: 0.9104\n",
      "Epoch 42/50\n",
      "13/13 [==============================] - 19s 1s/step - loss: 0.0281 - accuracy: 0.9904 - val_loss: 0.3197 - val_accuracy: 0.9030\n",
      "Epoch 43/50\n",
      "13/13 [==============================] - 19s 1s/step - loss: 0.0611 - accuracy: 0.9760 - val_loss: 0.2550 - val_accuracy: 0.8881\n",
      "Epoch 44/50\n",
      "13/13 [==============================] - 19s 1s/step - loss: 0.0402 - accuracy: 0.9856 - val_loss: 0.2155 - val_accuracy: 0.9104\n",
      "Epoch 45/50\n",
      "13/13 [==============================] - 19s 1s/step - loss: 0.0294 - accuracy: 0.9928 - val_loss: 0.2444 - val_accuracy: 0.9104\n",
      "Epoch 46/50\n",
      "13/13 [==============================] - 19s 1s/step - loss: 0.0242 - accuracy: 0.9928 - val_loss: 0.4331 - val_accuracy: 0.8731\n",
      "Epoch 47/50\n",
      "13/13 [==============================] - 19s 1s/step - loss: 0.0452 - accuracy: 0.9880 - val_loss: 0.1791 - val_accuracy: 0.9254\n",
      "Epoch 48/50\n",
      "13/13 [==============================] - 19s 1s/step - loss: 0.0242 - accuracy: 0.9952 - val_loss: 0.2579 - val_accuracy: 0.9030\n",
      "Epoch 49/50\n",
      "13/13 [==============================] - 19s 1s/step - loss: 0.0525 - accuracy: 0.9808 - val_loss: 0.3725 - val_accuracy: 0.8657\n",
      "Epoch 50/50\n",
      "13/13 [==============================] - 19s 1s/step - loss: 0.0799 - accuracy: 0.9784 - val_loss: 0.3874 - val_accuracy: 0.8657\n"
     ]
    }
   ],
   "source": [
    "# fit the model\n",
    "# Run the cell. It will take some time to execute\n",
    "r = model.fit_generator(\n",
    "  training_set,\n",
    "  validation_data=test_set,\n",
    "  epochs=50,\n",
    "  steps_per_epoch=len(training_set),\n",
    "  validation_steps=len(test_set)\n",
    ")"
   ]
  },
  {
   "cell_type": "code",
   "execution_count": 20,
   "id": "8a829166",
   "metadata": {},
   "outputs": [
    {
     "data": {
      "image/png": "[encoded data removed]",
      "text/plain": [
       "<Figure size 432x288 with 1 Axes>"
      ]
     },
     "metadata": {
      "needs_background": "light"
     },
     "output_type": "display_data"
    },
    {
     "data": {
      "image/png": "[encoded data removed]",
      "text/plain": [
       "<Figure size 432x288 with 1 Axes>"
      ]
     },
     "metadata": {
      "needs_background": "light"
     },
     "output_type": "display_data"
    },
    {
     "data": {
      "text/plain": [
       "<Figure size 432x288 with 0 Axes>"
      ]
     },
     "metadata": {},
     "output_type": "display_data"
    }
   ],
   "source": [
    "# plot the loss\n",
    "plt.plot(r.history['loss'], label='train loss')\n",
    "plt.plot(r.history['val_loss'], label='val loss')\n",
    "plt.legend()\n",
    "plt.show()\n",
    "plt.savefig('LossVal_loss')\n",
    "\n",
    "# plot the accuracy\n",
    "plt.plot(r.history['accuracy'], label='train acc')\n",
    "plt.plot(r.history['val_accuracy'], label='val acc')\n",
    "plt.legend()\n",
    "plt.show()\n",
    "plt.savefig('AccVal_acc')"
   ]
  },
  {
   "cell_type": "code",
   "execution_count": 23,
   "id": "f5bf9934",
   "metadata": {},
   "outputs": [],
   "source": [
    "# save it as a h5 file\n",
    "\n",
    "\n",
    "from tensorflow.keras.models import load_model\n",
    "\n",
    "model.save('model_vgg19.h5')"
   ]
  },
  {
   "cell_type": "code",
   "execution_count": 24,
   "id": "b477f73b",
   "metadata": {},
   "outputs": [
    {
     "name": "stdout",
     "output_type": "stream",
     "text": [
      "5/5 [==============================] - 1s 164ms/step\n"
     ]
    }
   ],
   "source": [
    "y_pred = model.predict(test_set)"
   ]
  },
  {
   "cell_type": "code",
   "execution_count": 25,
   "id": "c7f134f4",
   "metadata": {},
   "outputs": [
    {
     "data": {
      "text/plain": [
       "array([[9.87860382e-01, 1.21395970e-02],\n",
       "       [3.45125329e-03, 9.96548831e-01],\n",
       "       [1.00000000e+00, 4.81385669e-08],\n",
       "       [2.37245247e-01, 7.62754738e-01],\n",
       "       [9.99961615e-01, 3.83256265e-05],\n",
       "       [3.30461897e-02, 9.66953874e-01],\n",
       "       [1.00000000e+00, 2.26111824e-10],\n",
       "       [1.00000000e+00, 1.46720136e-10],\n",
       "       [1.02299295e-01, 8.97700667e-01],\n",
       "       [8.79317056e-03, 9.91206825e-01],\n",
       "       [9.99999046e-01, 1.00908369e-06],\n",
       "       [9.97620165e-01, 2.37985305e-03],\n",
       "       [3.32713500e-03, 9.96672869e-01],\n",
       "       [1.66050106e-01, 8.33949924e-01],\n",
       "       [9.99898672e-01, 1.01286474e-04],\n",
       "       [9.99491215e-01, 5.08717960e-04],\n",
       "       [1.69612188e-02, 9.83038783e-01],\n",
       "       [9.99266446e-01, 7.33547378e-04],\n",
       "       [9.99999404e-01, 6.04268735e-07],\n",
       "       [9.70350564e-01, 2.96494309e-02],\n",
       "       [2.64193807e-02, 9.73580599e-01],\n",
       "       [2.25756794e-01, 7.74243236e-01],\n",
       "       [9.99879122e-01, 1.20808276e-04],\n",
       "       [9.99997377e-01, 2.56593694e-06],\n",
       "       [9.99965191e-01, 3.48175527e-05],\n",
       "       [9.99975324e-01, 2.46541113e-05],\n",
       "       [9.99845982e-01, 1.53989531e-04],\n",
       "       [4.83086752e-03, 9.95169103e-01],\n",
       "       [9.91146028e-01, 8.85397196e-03],\n",
       "       [2.45290268e-02, 9.75471020e-01],\n",
       "       [1.00000000e+00, 2.48544510e-19],\n",
       "       [1.07139256e-02, 9.89286125e-01],\n",
       "       [5.35192005e-02, 9.46480751e-01],\n",
       "       [9.99988317e-01, 1.16484825e-05],\n",
       "       [9.99995232e-01, 4.76838522e-06],\n",
       "       [6.83575571e-02, 9.31642413e-01],\n",
       "       [1.30792260e-02, 9.86920714e-01],\n",
       "       [2.26867702e-02, 9.77313221e-01],\n",
       "       [1.00000000e+00, 1.78785449e-08],\n",
       "       [9.99999046e-01, 9.89437808e-07],\n",
       "       [1.00000000e+00, 4.46840476e-09],\n",
       "       [6.51909225e-03, 9.93480921e-01],\n",
       "       [9.99986649e-01, 1.33686644e-05],\n",
       "       [3.27294543e-02, 9.67270494e-01],\n",
       "       [1.90833174e-02, 9.80916679e-01],\n",
       "       [9.99999046e-01, 9.47241347e-07],\n",
       "       [8.88992772e-02, 9.11100686e-01],\n",
       "       [2.01513395e-02, 9.79848683e-01],\n",
       "       [9.99768794e-01, 2.31268219e-04],\n",
       "       [9.99954343e-01, 4.56219823e-05],\n",
       "       [9.99678850e-01, 3.21113068e-04],\n",
       "       [5.99497184e-03, 9.94005024e-01],\n",
       "       [3.24716829e-02, 9.67528343e-01],\n",
       "       [9.99921083e-01, 7.89595506e-05],\n",
       "       [2.88346969e-02, 9.71165240e-01],\n",
       "       [8.58193822e-03, 9.91418004e-01],\n",
       "       [3.84089048e-03, 9.96159077e-01],\n",
       "       [1.00000000e+00, 9.77211628e-12],\n",
       "       [3.79335694e-02, 9.62066412e-01],\n",
       "       [1.16966469e-02, 9.88303304e-01],\n",
       "       [9.97337997e-01, 2.66197207e-03],\n",
       "       [1.08904935e-01, 8.91094983e-01],\n",
       "       [1.00000000e+00, 6.54413579e-10],\n",
       "       [9.99851704e-01, 1.48314575e-04],\n",
       "       [9.91030216e-01, 8.96976981e-03],\n",
       "       [1.44508062e-02, 9.85549152e-01],\n",
       "       [1.55801438e-02, 9.84419882e-01],\n",
       "       [1.04029765e-02, 9.89597023e-01],\n",
       "       [9.99974251e-01, 2.57337797e-05],\n",
       "       [1.00000000e+00, 1.11127134e-08],\n",
       "       [1.00000000e+00, 3.72639983e-12],\n",
       "       [1.22435363e-02, 9.87756491e-01],\n",
       "       [4.24491754e-03, 9.95755076e-01],\n",
       "       [5.42901978e-02, 9.45709825e-01],\n",
       "       [5.94288297e-02, 9.40571129e-01],\n",
       "       [1.30052837e-02, 9.86994684e-01],\n",
       "       [9.99405503e-01, 5.94452140e-04],\n",
       "       [9.99945402e-01, 5.46516312e-05],\n",
       "       [9.99998689e-01, 1.30238573e-06],\n",
       "       [4.02356572e-02, 9.59764302e-01],\n",
       "       [1.00000000e+00, 2.09623039e-08],\n",
       "       [9.99988317e-01, 1.16486826e-05],\n",
       "       [9.99999285e-01, 6.71186513e-07],\n",
       "       [9.99634504e-01, 3.65510903e-04],\n",
       "       [1.00000000e+00, 9.45774763e-14],\n",
       "       [6.66839033e-02, 9.33316112e-01],\n",
       "       [1.89346056e-02, 9.81065333e-01],\n",
       "       [9.94021595e-01, 5.97834587e-03],\n",
       "       [9.99259770e-01, 7.40221294e-04],\n",
       "       [9.99574482e-01, 4.25569888e-04],\n",
       "       [1.37946121e-02, 9.86205399e-01],\n",
       "       [7.27939904e-02, 9.27205980e-01],\n",
       "       [9.99977589e-01, 2.24301129e-05],\n",
       "       [2.46112317e-01, 7.53887713e-01],\n",
       "       [1.00000000e+00, 7.12624938e-19],\n",
       "       [7.18280613e-01, 2.81719446e-01],\n",
       "       [2.38594171e-02, 9.76140618e-01],\n",
       "       [1.00000000e+00, 1.84735480e-14],\n",
       "       [3.20705831e-01, 6.79294169e-01],\n",
       "       [9.99999762e-01, 2.78432111e-07],\n",
       "       [2.27636755e-01, 7.72363245e-01],\n",
       "       [1.14764441e-02, 9.88523543e-01],\n",
       "       [9.99715388e-01, 2.84548063e-04],\n",
       "       [9.99866366e-01, 1.33640802e-04],\n",
       "       [1.00000000e+00, 3.57925209e-08],\n",
       "       [9.99872684e-01, 1.27288222e-04],\n",
       "       [6.90950314e-03, 9.93090570e-01],\n",
       "       [9.99969840e-01, 3.02023018e-05],\n",
       "       [9.99970555e-01, 2.93978719e-05],\n",
       "       [9.98419166e-01, 1.58081809e-03],\n",
       "       [2.24155542e-02, 9.77584422e-01],\n",
       "       [2.69541573e-02, 9.73045886e-01],\n",
       "       [3.86762545e-02, 9.61323738e-01],\n",
       "       [9.99945879e-01, 5.41176050e-05],\n",
       "       [9.99998808e-01, 1.22997244e-06],\n",
       "       [9.99736369e-01, 2.63610797e-04],\n",
       "       [1.14934012e-01, 8.85066032e-01],\n",
       "       [9.99997258e-01, 2.73280648e-06],\n",
       "       [7.36706005e-03, 9.92632926e-01],\n",
       "       [2.17980780e-02, 9.78201926e-01],\n",
       "       [1.73527207e-02, 9.82647240e-01],\n",
       "       [9.99979973e-01, 1.99682272e-05],\n",
       "       [9.23512518e-01, 7.64874741e-02],\n",
       "       [9.99928951e-01, 7.09992237e-05],\n",
       "       [2.89108008e-02, 9.71089184e-01],\n",
       "       [9.99331355e-01, 6.68620109e-04],\n",
       "       [9.98714328e-01, 1.28569978e-03],\n",
       "       [9.98968601e-01, 1.03139551e-03],\n",
       "       [2.23978385e-02, 9.77602184e-01],\n",
       "       [1.73097458e-02, 9.82690275e-01],\n",
       "       [7.58314058e-02, 9.24168587e-01],\n",
       "       [9.99763072e-01, 2.36914289e-04],\n",
       "       [1.15803862e-02, 9.88419652e-01],\n",
       "       [5.67733288e-01, 4.32266742e-01]], dtype=float32)"
      ]
     },
     "execution_count": 25,
     "metadata": {},
     "output_type": "execute_result"
    }
   ],
   "source": [
    "y_pred"
   ]
  },
  {
   "cell_type": "code",
   "execution_count": null,
   "id": "58d860ae",
   "metadata": {},
   "outputs": [],
   "source": []
  }
 ],
 "metadata": {
  "kernelspec": {
   "display_name": "Python 3 (ipykernel)",
   "language": "python",
   "name": "python3"
  },
  "language_info": {
   "codemirror_mode": {
    "name": "ipython",
    "version": 3
   },
   "file_extension": ".py",
   "mimetype": "text/x-python",
   "name": "python",
   "nbconvert_exporter": "python",
   "pygments_lexer": "ipython3",
   "version": "3.9.7"
  }
 },
 "nbformat": 4,
 "nbformat_minor": 5
}
